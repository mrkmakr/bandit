{
 "cells": [
  {
   "cell_type": "code",
   "execution_count": 23,
   "metadata": {
    "collapsed": true
   },
   "outputs": [],
   "source": [
    "import numpy as np\n",
    "import matplotlib.pyplot as plt\n",
    "%matplotlib inline"
   ]
  },
  {
   "cell_type": "code",
   "execution_count": 24,
   "metadata": {
    "collapsed": true
   },
   "outputs": [],
   "source": [
    "#bandit arms task\n",
    "class bandit():\n",
    "    def __init__(self,n,tmax = 100):\n",
    "        self.n = n\n",
    "        self.tmax = tmax\n",
    "        self.n_act = n\n",
    "        \n",
    "    def reset(self,p = None):\n",
    "        if type(p) == type(None):\n",
    "            self.p = np.random.rand(self.n)\n",
    "        else:\n",
    "            self.p = np.random.permutation(p)\n",
    "        self.t = 0\n",
    "        self.reward_rec = []\n",
    "        self.action_rec = []\n",
    "        self.best_rec = []\n",
    "        self.best = np.argmax(self.p)\n",
    "    def step(self,action):\n",
    "        \n",
    "        p = self.p[action]\n",
    "        if np.random.rand() < p:\n",
    "            reward = 1\n",
    "        else:\n",
    "            reward = 0\n",
    "        \n",
    "        if np.argmax(self.p) == action:\n",
    "            best = 1\n",
    "        else:\n",
    "            best = 0\n",
    "        \n",
    "        self.action_rec.append(action)\n",
    "        self.reward_rec.append(reward)\n",
    "        self.best_rec.append(best)\n",
    "        \n",
    "        self.t += 1\n",
    "        if self.tmax == self.t:\n",
    "            done = True\n",
    "        else:\n",
    "            done = False\n",
    "        obs = reward\n",
    "        info = {'reward_rec' : self.reward_rec,\n",
    "                'action_rec' : self.action_rec}\n",
    "        return obs,reward,done,info\n",
    "        \n",
    "        "
   ]
  },
  {
   "cell_type": "code",
   "execution_count": 25,
   "metadata": {
    "collapsed": true
   },
   "outputs": [],
   "source": [
    "#random choice agent\n",
    "class agent_Random():\n",
    "    def __init__(self,n):\n",
    "        self.n_act = n\n",
    "    def reset(self):\n",
    "        pass\n",
    "    def update(self,action,reward):\n",
    "        pass\n",
    "    def step(self):\n",
    "        action = np.random.randint(n)\n",
    "        return action"
   ]
  },
  {
   "cell_type": "code",
   "execution_count": 26,
   "metadata": {
    "collapsed": false
   },
   "outputs": [],
   "source": [
    "#Q leaning agent\n",
    "class agent_Q():\n",
    "    def __init__(self,n):\n",
    "        self.n_act = n\n",
    "        self.Q = np.zeros(n)\n",
    "        self.eps = 0.1\n",
    "        self.alpha = 0.1\n",
    "        self.gamma = 0.9\n",
    "    def reset(self):\n",
    "        self.Q = np.zeros(n)\n",
    "    def update(self,action,reward):\n",
    "        td = reward - self.Q[action] + self.gamma * np.max(self.Q)\n",
    "        self.Q[action] += self.alpha * td\n",
    "\n",
    "    def step(self):\n",
    "        if np.random.rand() < self.eps:\n",
    "            action = np.random.randint(n)\n",
    "        else:\n",
    "            action = np.argmax(self.Q)\n",
    "        return action"
   ]
  },
  {
   "cell_type": "code",
   "execution_count": 27,
   "metadata": {
    "collapsed": false
   },
   "outputs": [],
   "source": [
    "#epsilon greedy agent\n",
    "class agent_EpsGreedy():\n",
    "    def __init__(self,n):\n",
    "        self.n_act = n\n",
    "        self.m = np.zeros(n)\n",
    "        self.t_act = np.zeros(n)\n",
    "        self.eps = 0.01\n",
    "    def reset(self):\n",
    "        self.m = np.zeros(n)\n",
    "        self.t_act = np.zeros(n)        \n",
    "    def update(self,action,reward):\n",
    "        self.t_act[action] += 1\n",
    "        temp = self.m[action] * (self.t_act[action]-1) / self.t_act[action] + reward / self.t_act[action]\n",
    "        self.m[action] = temp\n",
    "        \n",
    "    def step(self):\n",
    "        if np.random.rand() < self.eps:\n",
    "            action = np.random.randint(n)\n",
    "        else:\n",
    "            action = np.argmax(self.m)\n",
    "        return action"
   ]
  },
  {
   "cell_type": "code",
   "execution_count": 28,
   "metadata": {
    "collapsed": false
   },
   "outputs": [],
   "source": [
    "#UCB agent\n",
    "class agent_UCB():\n",
    "    def __init__(self,n):\n",
    "        self.n_act = n\n",
    "        self.m = np.zeros(n)\n",
    "        self.t_act = np.zeros(n)\n",
    "        self.score = np.zeros(n)\n",
    "        self.t = 0\n",
    "    def reset(self):\n",
    "        self.m = np.zeros(n)\n",
    "        self.t_act = np.zeros(n)        \n",
    "        self.t = 0\n",
    "    def update(self,action,reward):\n",
    "        self.t += 1\n",
    "        self.t_act[action] += 1\n",
    "        temp = self.m[action] * (self.t_act[action]-1) / self.t_act[action] + reward / self.t_act[action]\n",
    "        self.m[action] = temp\n",
    "        self.score = self.m + np.sqrt(np.log(self.t)/(2 * self.t_act + 1e-8))\n",
    "    def step(self):\n",
    "        action = np.argmax(self.score)\n",
    "        return action"
   ]
  },
  {
   "cell_type": "code",
   "execution_count": 29,
   "metadata": {
    "collapsed": false
   },
   "outputs": [],
   "source": [
    "#Thompson agent\n",
    "class agent_Thompson():\n",
    "    def __init__(self,n):\n",
    "        self.n_act = n\n",
    "        self.alpha = 1\n",
    "        self.beta  = 1\n",
    "        self.alpha_cum = np.zeros(n) + self.alpha\n",
    "        self.beta_cum  = np.zeros(n) + self.beta\n",
    "    def reset(self):\n",
    "        self.alpha_cum = np.zeros(n) + self.alpha\n",
    "        self.beta_cum  = np.zeros(n) + self.beta\n",
    "    def update(self,action,reward):\n",
    "        if reward == 1 :\n",
    "            self.alpha_cum[action] += 1\n",
    "        else:\n",
    "            self.beta_cum[action] += 1\n",
    "    def step(self):\n",
    "        temp = [np.random.beta(self.alpha_cum[k],self.beta_cum[k]) for k in range(n)]\n",
    "        action = np.argmax(temp)\n",
    "        return action"
   ]
  },
  {
   "cell_type": "code",
   "execution_count": 30,
   "metadata": {
    "collapsed": false
   },
   "outputs": [
    {
     "name": "stdout",
     "output_type": "stream",
     "text": [
      "<__main__.agent_Random object at 0x109a825c0>\n",
      "<__main__.agent_Q object at 0x109a82cc0>\n",
      "<__main__.agent_EpsGreedy object at 0x109a820f0>\n",
      "<__main__.agent_UCB object at 0x109a82ef0>\n",
      "<__main__.agent_Thompson object at 0x109a82240>\n"
     ]
    }
   ],
   "source": [
    "n = 10 #n of arms\n",
    "tmax = 10000 #length of each trial\n",
    "p = np.linspace(0.01,0.2,n) #plobability of reward\n",
    "n_trial = 100 #evaluation number\n",
    "agents = [agent_Random(n),agent_Q(n),agent_EpsGreedy(n),agent_UCB(n),agent_Thompson(n)]\n",
    "\n",
    "env = bandit(n,tmax) \n",
    "reward_hist_mean = []\n",
    "best_hist_mean = []\n",
    "#agent loop\n",
    "for agent in agents:\n",
    "    print(agent)\n",
    "    reward_hist = []\n",
    "    best_hist = []\n",
    "    #trial loop\n",
    "    for _ in range(n_trial):\n",
    "        env.reset(p = p)\n",
    "        agent.reset()\n",
    "        #step loop\n",
    "        for k in range(tmax):\n",
    "            action = agent.step()\n",
    "            obs,reward,done,info = env.step(action)\n",
    "            agent.update(action,reward)\n",
    "        reward_hist.append(env.reward_rec)\n",
    "        best_hist.append(env.best_rec)\n",
    "        \n",
    "    reward_hist_mean.append(np.mean(np.array(reward_hist),axis=0))\n",
    "    best_hist_mean.append(np.mean(np.array(best_hist),axis=0))\n",
    "    "
   ]
  },
  {
   "cell_type": "code",
   "execution_count": 31,
   "metadata": {
    "collapsed": false
   },
   "outputs": [
    {
     "data": {
      "image/png": "[encoded data removed]",
      "text/plain": [
       "<matplotlib.figure.Figure at 0x109c80748>"
      ]
     },
     "metadata": {},
     "output_type": "display_data"
    }
   ],
   "source": [
    "labels = ['random','Q','EpsGreedy','UCB','Thompson']\n",
    "for k in range(len(agents)):\n",
    "    plt.plot(best_hist_mean[k],label = labels[k])\n",
    "plt.legend()\n",
    "plt.xlabel('step')\n",
    "plt.ylabel('best action rate')\n",
    "plt.title('best action rates by some agents')\n",
    "plt.savefig('evaluation of bandit algorithms.png') "
   ]
  },
  {
   "cell_type": "code",
   "execution_count": null,
   "metadata": {
    "collapsed": true
   },
   "outputs": [],
   "source": []
  },
  {
   "cell_type": "code",
   "execution_count": null,
   "metadata": {
    "collapsed": true
   },
   "outputs": [],
   "source": []
  }
 ],
 "metadata": {
  "kernelspec": {
   "display_name": "Python 3",
   "language": "python",
   "name": "python3"
  },
  "language_info": {
   "codemirror_mode": {
    "name": "ipython",
    "version": 3
   },
   "file_extension": ".py",
   "mimetype": "text/x-python",
   "name": "python",
   "nbconvert_exporter": "python",
   "pygments_lexer": "ipython3",
   "version": "3.6.0"
  }
 },
 "nbformat": 4,
 "nbformat_minor": 2
}
